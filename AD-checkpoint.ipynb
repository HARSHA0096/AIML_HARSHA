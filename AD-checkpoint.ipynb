{
 "cells": [
  {
   "cell_type": "code",
   "execution_count": 3,
   "id": "4fe3d0d4-513a-478f-b294-2d763b914879",
   "metadata": {},
   "outputs": [
    {
     "ename": "NameError",
     "evalue": "name 'cherry' is not defined",
     "output_type": "error",
     "traceback": [
      "\u001b[1;31m---------------------------------------------------------------------------\u001b[0m",
      "\u001b[1;31mNameError\u001b[0m                                 Traceback (most recent call last)",
      "Cell \u001b[1;32mIn[3], line 4\u001b[0m\n\u001b[0;32m      1\u001b[0m orders \u001b[38;5;241m=\u001b[39m  [[\u001b[38;5;124m'\u001b[39m\u001b[38;5;124mapple\u001b[39m\u001b[38;5;124m'\u001b[39m,\u001b[38;5;241m10\u001b[39m ], [\u001b[38;5;124m'\u001b[39m\u001b[38;5;124mbanana\u001b[39m\u001b[38;5;124m'\u001b[39m , \u001b[38;5;241m5\u001b[39m],[\u001b[38;5;124m'\u001b[39m\u001b[38;5;124mcherry\u001b[39m\u001b[38;5;124m'\u001b[39m,\u001b[38;5;241m15\u001b[39m]]\n\u001b[0;32m      3\u001b[0m \u001b[38;5;28;01mfor\u001b[39;00m each \u001b[38;5;129;01min\u001b[39;00m orders:\n\u001b[1;32m----> 4\u001b[0m     \u001b[38;5;28;01mif\u001b[39;00m each[\u001b[38;5;241m0\u001b[39m] \u001b[38;5;241m==\u001b[39m cherry:\n\u001b[0;32m      5\u001b[0m         each[\u001b[38;5;241m1\u001b[39m]\u001b[38;5;241m=\u001b[39m \u001b[38;5;241m10\u001b[39m\n\u001b[0;32m      6\u001b[0m \u001b[38;5;28mprint\u001b[39m(orders)\n",
      "\u001b[1;31mNameError\u001b[0m: name 'cherry' is not defined"
     ]
    }
   ],
   "source": [
    "orders =  [['apple',10 ], ['banana' , 5],['cherry',15]]\n",
    "\n",
    "for each in orders:\n",
    "    if each[0] == cherry:\n",
    "        each[1]= 10\n",
    "print(orders)"
   ]
  },
  {
   "cell_type": "code",
   "execution_count": 21,
   "id": "e3a618c9-1581-4399-be9e-727741f4d91e",
   "metadata": {},
   "outputs": [
    {
     "name": "stdout",
     "output_type": "stream",
     "text": [
      "[10]\n",
      "10\n"
     ]
    }
   ],
   "source": [
    "orders =  [['apple',10 ], ['banana' , 5],['cherry',15]]\n",
    "apple_orders=[]\n",
    "for each in orders:\n",
    "    if each[0] == \"apple\":\n",
    "        apple_orders.append(each[1])\n",
    "print(apple_orders)\n",
    "print(sum(apple_orders))"
   ]
  },
  {
   "cell_type": "code",
   "execution_count": 7,
   "id": "fc118c84-9f69-48fc-83fc-29a5cddfd74d",
   "metadata": {},
   "outputs": [
    {
     "name": "stdout",
     "output_type": "stream",
     "text": [
      "(22, 65, 56)\n",
      "<class 'tuple'>\n"
     ]
    }
   ],
   "source": [
    "Tup1=(22,65,56)\n",
    "print(Tup1)\n",
    "print(type(Tup1))"
   ]
  },
  {
   "cell_type": "code",
   "execution_count": 2,
   "id": "094ec7b2-f4a1-4361-ab1c-44b4fb59ce32",
   "metadata": {},
   "outputs": [
    {
     "name": "stdout",
     "output_type": "stream",
     "text": [
      "(10, 20, 3, 40)\n"
     ]
    }
   ],
   "source": [
    "Tup2=10,20,3,40\n",
    "print(Tup2)"
   ]
  },
  {
   "cell_type": "code",
   "execution_count": 5,
   "id": "32627607-208c-4a8d-8fcb-9d3c63c92e23",
   "metadata": {},
   "outputs": [
    {
     "name": "stdout",
     "output_type": "stream",
     "text": [
      "(1, 3, 4)\n"
     ]
    }
   ],
   "source": [
    "Tup3=tuple([1,3,4])\n",
    "print(Tup3)"
   ]
  },
  {
   "cell_type": "code",
   "execution_count": 9,
   "id": "5bc2b90b-84cd-4570-868a-c5e2b27771ae",
   "metadata": {},
   "outputs": [
    {
     "name": "stdout",
     "output_type": "stream",
     "text": [
      "([15], (1, 3, 5), 'hello', 105)\n"
     ]
    }
   ],
   "source": [
    "Tup4=([3*5],(1,3,5),\"hello\",105)\n",
    "print(Tup4)"
   ]
  },
  {
   "cell_type": "code",
   "execution_count": 10,
   "id": "c829716b-796a-4eea-aec6-c43e441be4ac",
   "metadata": {},
   "outputs": [
    {
     "name": "stdout",
     "output_type": "stream",
     "text": [
      "([1, 2, 3], (1, 3, 5), 'hello', 10.5)\n"
     ]
    }
   ],
   "source": [
    "Tup4=([1,2,3],(1,3,5),\"hello\",10.5)\n",
    "print(Tup4)"
   ]
  },
  {
   "cell_type": "code",
   "execution_count": 15,
   "id": "8dea331e-e537-49bb-8fcb-3bf61d8ebc5c",
   "metadata": {},
   "outputs": [
    {
     "name": "stdout",
     "output_type": "stream",
     "text": [
      "([1, 2, 3], (1, 3, 5), 'hello', 10.5)\n"
     ]
    },
    {
     "data": {
      "text/plain": [
       "([1, 2, 100], (1, 3, 5), 'hello', 10.5)"
      ]
     },
     "execution_count": 15,
     "metadata": {},
     "output_type": "execute_result"
    }
   ],
   "source": [
    "Tup4=([1,2,3],(1,3,5),\"hello\",10.5)\n",
    "print(Tup4)\n",
    "Tup4[0][2]=100\n",
    "Tup4\n",
    "#only list can be changed by operation"
   ]
  },
  {
   "cell_type": "code",
   "execution_count": 14,
   "id": "54f2d2b0-dbb2-42de-a32d-7acfefbfada9",
   "metadata": {},
   "outputs": [
    {
     "name": "stdout",
     "output_type": "stream",
     "text": [
      "([1, 2, 3], (1, 3, 5), 'hello', 10.5)\n"
     ]
    },
    {
     "ename": "TypeError",
     "evalue": "'tuple' object does not support item assignment",
     "output_type": "error",
     "traceback": [
      "\u001b[1;31m---------------------------------------------------------------------------\u001b[0m",
      "\u001b[1;31mTypeError\u001b[0m                                 Traceback (most recent call last)",
      "Cell \u001b[1;32mIn[14], line 3\u001b[0m\n\u001b[0;32m      1\u001b[0m Tup4\u001b[38;5;241m=\u001b[39m([\u001b[38;5;241m1\u001b[39m,\u001b[38;5;241m2\u001b[39m,\u001b[38;5;241m3\u001b[39m],(\u001b[38;5;241m1\u001b[39m,\u001b[38;5;241m3\u001b[39m,\u001b[38;5;241m5\u001b[39m),\u001b[38;5;124m\"\u001b[39m\u001b[38;5;124mhello\u001b[39m\u001b[38;5;124m\"\u001b[39m,\u001b[38;5;241m10.5\u001b[39m)\n\u001b[0;32m      2\u001b[0m \u001b[38;5;28mprint\u001b[39m(Tup4)\n\u001b[1;32m----> 3\u001b[0m Tup4[\u001b[38;5;241m1\u001b[39m][\u001b[38;5;241m1\u001b[39m]\u001b[38;5;241m=\u001b[39m\u001b[38;5;241m100\u001b[39m\n\u001b[0;32m      4\u001b[0m Tup4\n",
      "\u001b[1;31mTypeError\u001b[0m: 'tuple' object does not support item assignment"
     ]
    }
   ],
   "source": [
    "Tup4=([1,2,3],(1,3,5),\"hello\",10.5)\n",
    "print(Tup4)\n",
    "Tup4[1][1]=100\n",
    "Tup4"
   ]
  },
  {
   "cell_type": "code",
   "execution_count": 17,
   "id": "553f7754-d06e-423d-8607-ba71ae108440",
   "metadata": {},
   "outputs": [
    {
     "data": {
      "text/plain": [
       "2"
      ]
     },
     "execution_count": 17,
     "metadata": {},
     "output_type": "execute_result"
    }
   ],
   "source": [
    "Tup4.index('hello')"
   ]
  },
  {
   "cell_type": "code",
   "execution_count": 21,
   "id": "0f0ff3f5-d308-4444-aa98-5f85d6e64276",
   "metadata": {},
   "outputs": [
    {
     "data": {
      "text/plain": [
       "2"
      ]
     },
     "execution_count": 21,
     "metadata": {},
     "output_type": "execute_result"
    }
   ],
   "source": [
    "Tup8=(10,20,30,40,50,60,7,89,90,10,20,6,3,20,20,2,20,2,0)\n",
    "Tup8.count(20)\n",
    "Tup8.count(30)\n",
    "Tup8.count(10)"
   ]
  },
  {
   "cell_type": "code",
   "execution_count": 2,
   "id": "d2e6f30e-e405-45b6-aa11-e9dbb3523012",
   "metadata": {},
   "outputs": [
    {
     "name": "stdout",
     "output_type": "stream",
     "text": [
      "{'a': 1, 'b': 2, 'c': 3}\n",
      "<class 'dict'>\n"
     ]
    }
   ],
   "source": [
    "d1 = {\"a\" : 1, \"b\":2, \"c\":3}\n",
    "print(d1)\n",
    "print(type(d1))"
   ]
  },
  {
   "cell_type": "code",
   "execution_count": 10,
   "id": "d1d2738b-dd61-42f6-a142-51910f76c9f6",
   "metadata": {},
   "outputs": [
    {
     "name": "stdout",
     "output_type": "stream",
     "text": [
      "{'a': 1, 'b': 2, 'c': 3}\n"
     ]
    }
   ],
   "source": [
    "d2=dict(a = 1 ,b = 2,c = 3)\n",
    "print(d2)"
   ]
  },
  {
   "cell_type": "code",
   "execution_count": 16,
   "id": "58f5e714-88cb-43da-b495-0a8581e40bfd",
   "metadata": {},
   "outputs": [
    {
     "name": "stdout",
     "output_type": "stream",
     "text": [
      "{'X': 1, 'Y': 2, 'Z': 3}\n"
     ]
    }
   ],
   "source": [
    "d3=dict([(\"X\",1),(\"Y\",2),(\"Z\",3)])\n",
    "print(d3)"
   ]
  },
  {
   "cell_type": "code",
   "execution_count": 18,
   "id": "5da09fb7-2bc7-4e65-aa41-fa09f01386e9",
   "metadata": {},
   "outputs": [
    {
     "data": {
      "text/plain": [
       "{'a': 1, 'b': 2, 'c': 3}"
      ]
     },
     "execution_count": 18,
     "metadata": {},
     "output_type": "execute_result"
    }
   ],
   "source": [
    "d1"
   ]
  },
  {
   "cell_type": "code",
   "execution_count": 20,
   "id": "dc57722c-7b61-4f4a-aa3c-b4f9af949688",
   "metadata": {},
   "outputs": [
    {
     "name": "stdout",
     "output_type": "stream",
     "text": [
      "dict_keys(['a', 'b', 'c'])\n",
      "dict_values([1, 2, 3])\n",
      "dict_items([('a', 1), ('b', 2), ('c', 3)])\n"
     ]
    }
   ],
   "source": [
    "print(d1.keys())\n",
    "print(d1.values())\n",
    "print(d1.items())"
   ]
  },
  {
   "cell_type": "code",
   "execution_count": 22,
   "id": "61eb6619-dd49-48a4-9114-8a302e5790cb",
   "metadata": {},
   "outputs": [
    {
     "data": {
      "text/plain": [
       "['__class__',\n",
       " '__class_getitem__',\n",
       " '__contains__',\n",
       " '__delattr__',\n",
       " '__delitem__',\n",
       " '__dir__',\n",
       " '__doc__',\n",
       " '__eq__',\n",
       " '__format__',\n",
       " '__ge__',\n",
       " '__getattribute__',\n",
       " '__getitem__',\n",
       " '__getstate__',\n",
       " '__gt__',\n",
       " '__hash__',\n",
       " '__init__',\n",
       " '__init_subclass__',\n",
       " '__ior__',\n",
       " '__iter__',\n",
       " '__le__',\n",
       " '__len__',\n",
       " '__lt__',\n",
       " '__ne__',\n",
       " '__new__',\n",
       " '__or__',\n",
       " '__reduce__',\n",
       " '__reduce_ex__',\n",
       " '__repr__',\n",
       " '__reversed__',\n",
       " '__ror__',\n",
       " '__setattr__',\n",
       " '__setitem__',\n",
       " '__sizeof__',\n",
       " '__str__',\n",
       " '__subclasshook__',\n",
       " 'clear',\n",
       " 'copy',\n",
       " 'fromkeys',\n",
       " 'get',\n",
       " 'items',\n",
       " 'keys',\n",
       " 'pop',\n",
       " 'popitem',\n",
       " 'setdefault',\n",
       " 'update',\n",
       " 'values']"
      ]
     },
     "execution_count": 22,
     "metadata": {},
     "output_type": "execute_result"
    }
   ],
   "source": [
    "dir(dict)"
   ]
  },
  {
   "cell_type": "code",
   "execution_count": 38,
   "id": "27f85669-fe2d-4658-9be0-b4aca43b54d7",
   "metadata": {},
   "outputs": [
    {
     "name": "stdout",
     "output_type": "stream",
     "text": [
      "{'virat': 90, 'Rohit': 100, 'Rahul': 70, 'Hardik': 90, 'Gill': 20, 'Jadega': 30, 'Siraj': 15}\n"
     ]
    }
   ],
   "source": [
    "Scores={'virat':90,'Rohit':100,'Rahul':70,'Hardik':90,'Gill':20,'Jadega':30,'Siraj':15}\n",
    "print(Scores)"
   ]
  },
  {
   "cell_type": "code",
   "execution_count": 40,
   "id": "306b8fd2-58a9-4e91-9df9-fb8e948f15d0",
   "metadata": {},
   "outputs": [
    {
     "data": {
      "text/plain": [
       "{'virat': 90,\n",
       " 'Rohit': 100,\n",
       " 'Rahul': 70,\n",
       " 'Hardik': 90,\n",
       " 'Gill': 20,\n",
       " 'Jadega': 30,\n",
       " 'Siraj': 15,\n",
       " 'Jadeja': 50}"
      ]
     },
     "execution_count": 40,
     "metadata": {},
     "output_type": "execute_result"
    }
   ],
   "source": [
    "Scores.update({\"Jadeja\":50})\n",
    "Scores"
   ]
  },
  {
   "cell_type": "code",
   "execution_count": 44,
   "id": "49d13557-b97e-4906-a84d-f1b2ff86b93f",
   "metadata": {},
   "outputs": [
    {
     "data": {
      "text/plain": [
       "{'virat': 90,\n",
       " 'Rohit': 100,\n",
       " 'Rahul': 70,\n",
       " 'Hardik': 90,\n",
       " 'Gill': 20,\n",
       " 'Jadega': 30,\n",
       " 'Siraj': 15,\n",
       " 'Jadeja': 50,\n",
       " 'Rahane': 45,\n",
       " 'Shammi': 50}"
      ]
     },
     "execution_count": 44,
     "metadata": {},
     "output_type": "execute_result"
    }
   ],
   "source": [
    "Source.update({\"Shammi\":50})\n"
   ]
  },
  {
   "cell_type": "code",
   "execution_count": 42,
   "id": "26d3162d-2cae-45ee-a399-f853281601be",
   "metadata": {},
   "outputs": [
    {
     "data": {
      "text/plain": [
       "{'virat': 90,\n",
       " 'Rohit': 100,\n",
       " 'Rahul': 70,\n",
       " 'Hardik': 90,\n",
       " 'Gill': 20,\n",
       " 'Jadega': 30,\n",
       " 'Siraj': 15,\n",
       " 'Jadeja': 50,\n",
       " 'Rahane': 45}"
      ]
     },
     "execution_count": 42,
     "metadata": {},
     "output_type": "execute_result"
    }
   ],
   "source": [
    "Scores.update({\"Jadeja\":50,\"Rahane\":45})\n",
    "Scores"
   ]
  }
 ],
 "metadata": {
  "kernelspec": {
   "display_name": "Python [conda env:base] *",
   "language": "python",
   "name": "conda-base-py"
  },
  "language_info": {
   "codemirror_mode": {
    "name": "ipython",
    "version": 3
   },
   "file_extension": ".py",
   "mimetype": "text/x-python",
   "name": "python",
   "nbconvert_exporter": "python",
   "pygments_lexer": "ipython3",
   "version": "3.12.7"
  }
 },
 "nbformat": 4,
 "nbformat_minor": 5
}
